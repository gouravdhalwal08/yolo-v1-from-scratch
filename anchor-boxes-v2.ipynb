{
 "cells": [
  {
   "cell_type": "code",
   "execution_count": 1,
   "metadata": {},
   "outputs": [],
   "source": [
    "import pandas as pd\n",
    "import numpy as np\n",
    "import ast"
   ]
  },
  {
   "cell_type": "code",
   "execution_count": 2,
   "metadata": {},
   "outputs": [],
   "source": [
    "training_data = pd.read_csv(\"training_data.csv\")\n",
    "training_data[\"img_gt_class_labels\"] = training_data[\"img_gt_class_labels\"].apply(ast.literal_eval)\n",
    "training_data[\"img_gt_bbox_coords\"] = training_data[\"img_gt_bbox_coords\"].apply(ast.literal_eval)"
   ]
  },
  {
   "cell_type": "code",
   "execution_count": 3,
   "metadata": {},
   "outputs": [
    {
     "data": {
      "text/html": [
       "<div>\n",
       "<style scoped>\n",
       "    .dataframe tbody tr th:only-of-type {\n",
       "        vertical-align: middle;\n",
       "    }\n",
       "\n",
       "    .dataframe tbody tr th {\n",
       "        vertical-align: top;\n",
       "    }\n",
       "\n",
       "    .dataframe thead th {\n",
       "        text-align: right;\n",
       "    }\n",
       "</style>\n",
       "<table border=\"1\" class=\"dataframe\">\n",
       "  <thead>\n",
       "    <tr style=\"text-align: right;\">\n",
       "      <th></th>\n",
       "      <th>img_path</th>\n",
       "      <th>img_gt_class_labels</th>\n",
       "      <th>img_gt_bbox_coords</th>\n",
       "    </tr>\n",
       "  </thead>\n",
       "  <tbody>\n",
       "    <tr>\n",
       "      <th>0</th>\n",
       "      <td>VOCdevkit/VOC2012/JPEGImages/2008_005737.jpg</td>\n",
       "      <td>[2, 2, 2, 5, 5]</td>\n",
       "      <td>[[117.0, 310.0, 240.0, 500.0], [54.0, 253.0, 1...</td>\n",
       "    </tr>\n",
       "    <tr>\n",
       "      <th>1</th>\n",
       "      <td>VOCdevkit/VOC2012/JPEGImages/2012_002246.jpg</td>\n",
       "      <td>[5]</td>\n",
       "      <td>[[190.0, 53.0, 342.0, 353.0]]</td>\n",
       "    </tr>\n",
       "    <tr>\n",
       "      <th>2</th>\n",
       "      <td>VOCdevkit/VOC2012/JPEGImages/2012_001872.jpg</td>\n",
       "      <td>[5]</td>\n",
       "      <td>[[1.0, 45.0, 186.0, 333.0]]</td>\n",
       "    </tr>\n",
       "    <tr>\n",
       "      <th>3</th>\n",
       "      <td>VOCdevkit/VOC2012/JPEGImages/2009_002764.jpg</td>\n",
       "      <td>[2]</td>\n",
       "      <td>[[39.0, 45.0, 483.0, 307.0]]</td>\n",
       "    </tr>\n",
       "    <tr>\n",
       "      <th>4</th>\n",
       "      <td>VOCdevkit/VOC2012/JPEGImages/2010_002815.jpg</td>\n",
       "      <td>[11]</td>\n",
       "      <td>[[106.0, 375.0, 244.0, 496.0]]</td>\n",
       "    </tr>\n",
       "    <tr>\n",
       "      <th>...</th>\n",
       "      <td>...</td>\n",
       "      <td>...</td>\n",
       "      <td>...</td>\n",
       "    </tr>\n",
       "    <tr>\n",
       "      <th>14995</th>\n",
       "      <td>VOCdevkit/VOC2012/JPEGImages/2012_003299.jpg</td>\n",
       "      <td>[5]</td>\n",
       "      <td>[[216.0, 75.0, 282.0, 191.0]]</td>\n",
       "    </tr>\n",
       "    <tr>\n",
       "      <th>14996</th>\n",
       "      <td>VOCdevkit/VOC2012/JPEGImages/2011_002940.jpg</td>\n",
       "      <td>[14, 14, 4, 5, 5, 5, 5, 14, 5]</td>\n",
       "      <td>[[216.0, 208.0, 244.0, 299.0], [243.0, 170.0, ...</td>\n",
       "    </tr>\n",
       "    <tr>\n",
       "      <th>14997</th>\n",
       "      <td>VOCdevkit/VOC2012/JPEGImages/2009_000661.jpg</td>\n",
       "      <td>[3, 3, 3, 5, 5, 5, 5, 5, 5]</td>\n",
       "      <td>[[125.0, 31.0, 190.0, 53.0], [186.0, 56.0, 252...</td>\n",
       "    </tr>\n",
       "    <tr>\n",
       "      <th>14998</th>\n",
       "      <td>VOCdevkit/VOC2012/JPEGImages/2009_003689.jpg</td>\n",
       "      <td>[5]</td>\n",
       "      <td>[[184.0, 262.0, 294.0, 500.0]]</td>\n",
       "    </tr>\n",
       "    <tr>\n",
       "      <th>14999</th>\n",
       "      <td>VOCdevkit/VOC2012/JPEGImages/2008_004433.jpg</td>\n",
       "      <td>[3]</td>\n",
       "      <td>[[200.0, 195.0, 258.0, 212.0]]</td>\n",
       "    </tr>\n",
       "  </tbody>\n",
       "</table>\n",
       "<p>15000 rows × 3 columns</p>\n",
       "</div>"
      ],
      "text/plain": [
       "                                           img_path  \\\n",
       "0      VOCdevkit/VOC2012/JPEGImages/2008_005737.jpg   \n",
       "1      VOCdevkit/VOC2012/JPEGImages/2012_002246.jpg   \n",
       "2      VOCdevkit/VOC2012/JPEGImages/2012_001872.jpg   \n",
       "3      VOCdevkit/VOC2012/JPEGImages/2009_002764.jpg   \n",
       "4      VOCdevkit/VOC2012/JPEGImages/2010_002815.jpg   \n",
       "...                                             ...   \n",
       "14995  VOCdevkit/VOC2012/JPEGImages/2012_003299.jpg   \n",
       "14996  VOCdevkit/VOC2012/JPEGImages/2011_002940.jpg   \n",
       "14997  VOCdevkit/VOC2012/JPEGImages/2009_000661.jpg   \n",
       "14998  VOCdevkit/VOC2012/JPEGImages/2009_003689.jpg   \n",
       "14999  VOCdevkit/VOC2012/JPEGImages/2008_004433.jpg   \n",
       "\n",
       "                  img_gt_class_labels  \\\n",
       "0                     [2, 2, 2, 5, 5]   \n",
       "1                                 [5]   \n",
       "2                                 [5]   \n",
       "3                                 [2]   \n",
       "4                                [11]   \n",
       "...                               ...   \n",
       "14995                             [5]   \n",
       "14996  [14, 14, 4, 5, 5, 5, 5, 14, 5]   \n",
       "14997     [3, 3, 3, 5, 5, 5, 5, 5, 5]   \n",
       "14998                             [5]   \n",
       "14999                             [3]   \n",
       "\n",
       "                                      img_gt_bbox_coords  \n",
       "0      [[117.0, 310.0, 240.0, 500.0], [54.0, 253.0, 1...  \n",
       "1                          [[190.0, 53.0, 342.0, 353.0]]  \n",
       "2                            [[1.0, 45.0, 186.0, 333.0]]  \n",
       "3                           [[39.0, 45.0, 483.0, 307.0]]  \n",
       "4                         [[106.0, 375.0, 244.0, 496.0]]  \n",
       "...                                                  ...  \n",
       "14995                      [[216.0, 75.0, 282.0, 191.0]]  \n",
       "14996  [[216.0, 208.0, 244.0, 299.0], [243.0, 170.0, ...  \n",
       "14997  [[125.0, 31.0, 190.0, 53.0], [186.0, 56.0, 252...  \n",
       "14998                     [[184.0, 262.0, 294.0, 500.0]]  \n",
       "14999                     [[200.0, 195.0, 258.0, 212.0]]  \n",
       "\n",
       "[15000 rows x 3 columns]"
      ]
     },
     "execution_count": 3,
     "metadata": {},
     "output_type": "execute_result"
    }
   ],
   "source": [
    "training_data"
   ]
  },
  {
   "cell_type": "code",
   "execution_count": 4,
   "metadata": {},
   "outputs": [],
   "source": [
    "training_data[\"img_gt_bbox_coords\"] = training_data[\"img_gt_bbox_coords\"].apply(lambda x: np.array(x))"
   ]
  },
  {
   "cell_type": "code",
   "execution_count": 5,
   "metadata": {},
   "outputs": [],
   "source": [
    "img_gt_bbox_coords = np.concatenate(training_data[\"img_gt_bbox_coords\"],axis=0)"
   ]
  },
  {
   "cell_type": "code",
   "execution_count": 6,
   "metadata": {},
   "outputs": [
    {
     "data": {
      "text/plain": [
       "(35058, 4)"
      ]
     },
     "execution_count": 6,
     "metadata": {},
     "output_type": "execute_result"
    }
   ],
   "source": [
    "img_gt_bbox_coords.shape"
   ]
  },
  {
   "cell_type": "code",
   "execution_count": 7,
   "metadata": {},
   "outputs": [],
   "source": [
    "img_gt_bbox_coords = pd.DataFrame(data=img_gt_bbox_coords,columns=[\"xmin\",\"ymin\",\"xmax\",\"ymax\"])"
   ]
  },
  {
   "cell_type": "code",
   "execution_count": 8,
   "metadata": {},
   "outputs": [],
   "source": [
    "img_gt_bbox_coords[\"width\"] = img_gt_bbox_coords[\"xmax\"] - img_gt_bbox_coords[\"xmin\"]\n",
    "img_gt_bbox_coords[\"height\"] = img_gt_bbox_coords[\"ymax\"] - img_gt_bbox_coords[\"ymin\"]"
   ]
  },
  {
   "cell_type": "code",
   "execution_count": 9,
   "metadata": {},
   "outputs": [
    {
     "data": {
      "text/html": [
       "<div>\n",
       "<style scoped>\n",
       "    .dataframe tbody tr th:only-of-type {\n",
       "        vertical-align: middle;\n",
       "    }\n",
       "\n",
       "    .dataframe tbody tr th {\n",
       "        vertical-align: top;\n",
       "    }\n",
       "\n",
       "    .dataframe thead th {\n",
       "        text-align: right;\n",
       "    }\n",
       "</style>\n",
       "<table border=\"1\" class=\"dataframe\">\n",
       "  <thead>\n",
       "    <tr style=\"text-align: right;\">\n",
       "      <th></th>\n",
       "      <th>xmin</th>\n",
       "      <th>ymin</th>\n",
       "      <th>xmax</th>\n",
       "      <th>ymax</th>\n",
       "      <th>width</th>\n",
       "      <th>height</th>\n",
       "    </tr>\n",
       "  </thead>\n",
       "  <tbody>\n",
       "    <tr>\n",
       "      <th>0</th>\n",
       "      <td>117.0</td>\n",
       "      <td>310.0</td>\n",
       "      <td>240.0</td>\n",
       "      <td>500.0</td>\n",
       "      <td>123.0</td>\n",
       "      <td>190.0</td>\n",
       "    </tr>\n",
       "    <tr>\n",
       "      <th>1</th>\n",
       "      <td>54.0</td>\n",
       "      <td>253.0</td>\n",
       "      <td>112.0</td>\n",
       "      <td>345.0</td>\n",
       "      <td>58.0</td>\n",
       "      <td>92.0</td>\n",
       "    </tr>\n",
       "    <tr>\n",
       "      <th>2</th>\n",
       "      <td>1.0</td>\n",
       "      <td>332.0</td>\n",
       "      <td>91.0</td>\n",
       "      <td>500.0</td>\n",
       "      <td>90.0</td>\n",
       "      <td>168.0</td>\n",
       "    </tr>\n",
       "    <tr>\n",
       "      <th>3</th>\n",
       "      <td>134.0</td>\n",
       "      <td>206.0</td>\n",
       "      <td>248.0</td>\n",
       "      <td>479.0</td>\n",
       "      <td>114.0</td>\n",
       "      <td>273.0</td>\n",
       "    </tr>\n",
       "    <tr>\n",
       "      <th>4</th>\n",
       "      <td>47.0</td>\n",
       "      <td>202.0</td>\n",
       "      <td>110.0</td>\n",
       "      <td>319.0</td>\n",
       "      <td>63.0</td>\n",
       "      <td>117.0</td>\n",
       "    </tr>\n",
       "    <tr>\n",
       "      <th>...</th>\n",
       "      <td>...</td>\n",
       "      <td>...</td>\n",
       "      <td>...</td>\n",
       "      <td>...</td>\n",
       "      <td>...</td>\n",
       "      <td>...</td>\n",
       "    </tr>\n",
       "    <tr>\n",
       "      <th>35053</th>\n",
       "      <td>99.0</td>\n",
       "      <td>319.0</td>\n",
       "      <td>153.0</td>\n",
       "      <td>377.0</td>\n",
       "      <td>54.0</td>\n",
       "      <td>58.0</td>\n",
       "    </tr>\n",
       "    <tr>\n",
       "      <th>35054</th>\n",
       "      <td>146.0</td>\n",
       "      <td>314.0</td>\n",
       "      <td>172.0</td>\n",
       "      <td>377.0</td>\n",
       "      <td>26.0</td>\n",
       "      <td>63.0</td>\n",
       "    </tr>\n",
       "    <tr>\n",
       "      <th>35055</th>\n",
       "      <td>250.0</td>\n",
       "      <td>324.0</td>\n",
       "      <td>297.0</td>\n",
       "      <td>377.0</td>\n",
       "      <td>47.0</td>\n",
       "      <td>53.0</td>\n",
       "    </tr>\n",
       "    <tr>\n",
       "      <th>35056</th>\n",
       "      <td>184.0</td>\n",
       "      <td>262.0</td>\n",
       "      <td>294.0</td>\n",
       "      <td>500.0</td>\n",
       "      <td>110.0</td>\n",
       "      <td>238.0</td>\n",
       "    </tr>\n",
       "    <tr>\n",
       "      <th>35057</th>\n",
       "      <td>200.0</td>\n",
       "      <td>195.0</td>\n",
       "      <td>258.0</td>\n",
       "      <td>212.0</td>\n",
       "      <td>58.0</td>\n",
       "      <td>17.0</td>\n",
       "    </tr>\n",
       "  </tbody>\n",
       "</table>\n",
       "<p>35058 rows × 6 columns</p>\n",
       "</div>"
      ],
      "text/plain": [
       "        xmin   ymin   xmax   ymax  width  height\n",
       "0      117.0  310.0  240.0  500.0  123.0   190.0\n",
       "1       54.0  253.0  112.0  345.0   58.0    92.0\n",
       "2        1.0  332.0   91.0  500.0   90.0   168.0\n",
       "3      134.0  206.0  248.0  479.0  114.0   273.0\n",
       "4       47.0  202.0  110.0  319.0   63.0   117.0\n",
       "...      ...    ...    ...    ...    ...     ...\n",
       "35053   99.0  319.0  153.0  377.0   54.0    58.0\n",
       "35054  146.0  314.0  172.0  377.0   26.0    63.0\n",
       "35055  250.0  324.0  297.0  377.0   47.0    53.0\n",
       "35056  184.0  262.0  294.0  500.0  110.0   238.0\n",
       "35057  200.0  195.0  258.0  212.0   58.0    17.0\n",
       "\n",
       "[35058 rows x 6 columns]"
      ]
     },
     "execution_count": 9,
     "metadata": {},
     "output_type": "execute_result"
    }
   ],
   "source": [
    "img_gt_bbox_coords"
   ]
  },
  {
   "cell_type": "code",
   "execution_count": 10,
   "metadata": {},
   "outputs": [],
   "source": [
    "avg_width = img_gt_bbox_coords[\"width\"].mean()\n",
    "avg_height = img_gt_bbox_coords[\"height\"].mean()"
   ]
  },
  {
   "cell_type": "code",
   "execution_count": 11,
   "metadata": {},
   "outputs": [
    {
     "data": {
      "text/plain": [
       "158.52068001597354"
      ]
     },
     "execution_count": 11,
     "metadata": {},
     "output_type": "execute_result"
    }
   ],
   "source": [
    "avg_width"
   ]
  },
  {
   "cell_type": "code",
   "execution_count": 12,
   "metadata": {},
   "outputs": [
    {
     "data": {
      "text/plain": [
       "173.5443721831957"
      ]
     },
     "execution_count": 12,
     "metadata": {},
     "output_type": "execute_result"
    }
   ],
   "source": [
    "avg_height"
   ]
  },
  {
   "cell_type": "code",
   "execution_count": null,
   "metadata": {},
   "outputs": [],
   "source": []
  }
 ],
 "metadata": {
  "kernelspec": {
   "display_name": ".venv",
   "language": "python",
   "name": "python3"
  },
  "language_info": {
   "codemirror_mode": {
    "name": "ipython",
    "version": 3
   },
   "file_extension": ".py",
   "mimetype": "text/x-python",
   "name": "python",
   "nbconvert_exporter": "python",
   "pygments_lexer": "ipython3",
   "version": "3.10.12"
  }
 },
 "nbformat": 4,
 "nbformat_minor": 2
}
